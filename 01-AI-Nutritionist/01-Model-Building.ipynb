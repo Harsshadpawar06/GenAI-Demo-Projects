{
 "cells": [
  {
   "cell_type": "markdown",
   "metadata": {},
   "source": [
    "### 01-AI-Nutritionist-Demo"
   ]
  },
  {
   "cell_type": "code",
   "execution_count": 3,
   "metadata": {},
   "outputs": [
    {
     "name": "stdout",
     "output_type": "stream",
     "text": [
      "Sat May 25 07:13:24 2024       \n",
      "+-----------------------------------------------------------------------------------------+\n",
      "| NVIDIA-SMI 552.22                 Driver Version: 552.22         CUDA Version: 12.4     |\n",
      "|-----------------------------------------+------------------------+----------------------+\n",
      "| GPU  Name                     TCC/WDDM  | Bus-Id          Disp.A | Volatile Uncorr. ECC |\n",
      "| Fan  Temp   Perf          Pwr:Usage/Cap |           Memory-Usage | GPU-Util  Compute M. |\n",
      "|                                         |                        |               MIG M. |\n",
      "|=========================================+========================+======================|\n",
      "|   0  NVIDIA GeForce RTX 4060 ...  WDDM  |   00000000:01:00.0  On |                  N/A |\n",
      "| N/A   39C    P8              4W /   80W |     627MiB /   8188MiB |     50%      Default |\n",
      "|                                         |                        |                  N/A |\n",
      "+-----------------------------------------+------------------------+----------------------+\n",
      "                                                                                         \n",
      "+-----------------------------------------------------------------------------------------+\n",
      "| Processes:                                                                              |\n",
      "|  GPU   GI   CI        PID   Type   Process name                              GPU Memory |\n",
      "|        ID   ID                                                               Usage      |\n",
      "|=========================================================================================|\n",
      "|    0   N/A  N/A      4332    C+G   C:\\Windows\\explorer.exe                     N/A      |\n",
      "|    0   N/A  N/A     25308    C+G   ...Brave-Browser\\Application\\brave.exe      N/A      |\n",
      "+-----------------------------------------------------------------------------------------+\n"
     ]
    }
   ],
   "source": [
    "gpu_info = !nvidia-smi\n",
    "gpu_info = '\\n'.join(gpu_info)\n",
    "if gpu_info.find('failed') >= 0:\n",
    "  print('Not connected to a GPU')\n",
    "else:\n",
    "  print('connected to a GPU')\n",
    "  print(gpu_info)"
   ]
  },
  {
   "cell_type": "code",
   "execution_count": 5,
   "metadata": {},
   "outputs": [],
   "source": [
    "import os\n",
    "import chromadb\n",
    "from llama_index.llms.openai import OpenAI\n",
    "from llama_index.core import SimpleDirectoryReader, VectorStoreIndex, StorageContext, ServiceContext, get_response_synthesizer, Settings, PromptTemplate\n",
    "from llama_index.readers.file import PDFReader, CSVReader\n",
    "from IPython.display import display, Markdown\n",
    "from llama_index.vector_stores.chroma import ChromaVectorStore\n",
    "from llama_index.core.retrievers import VectorIndexRetriever\n",
    "from llama_index.core.query_engine import RetrieverQueryEngine\n",
    "from llama_index.core.postprocessor import SimilarityPostprocessor\n",
    "from llama_index.embeddings.openai import OpenAIEmbedding\n",
    "\n",
    "OPENAI_API_KEY = os.getenv(\"OPENAI_API_KEY\")\n",
    "LLAMA_INDEX_API_KEY = os.getenv(\"LLAMA_INDEX_API_KEY\")"
   ]
  },
  {
   "cell_type": "code",
   "execution_count": 6,
   "metadata": {},
   "outputs": [
    {
     "name": "stdout",
     "output_type": "stream",
     "text": [
      "chromadb imported successfully!\n"
     ]
    }
   ],
   "source": [
    "import chromadb\n",
    "print(\"chromadb imported successfully!\")"
   ]
  },
  {
   "cell_type": "code",
   "execution_count": 7,
   "metadata": {},
   "outputs": [],
   "source": [
    "import nest_asyncio\n",
    "\n",
    "nest_asyncio.apply()"
   ]
  },
  {
   "cell_type": "code",
   "execution_count": 8,
   "metadata": {},
   "outputs": [],
   "source": [
    "from llama_parse import LlamaParse\n",
    "    \n",
    "# Initialize the LlamaParse object with parameters\n",
    "parser = LlamaParse(\n",
    "    result_type=\"markdown\",\n",
    "    api_key=LLAMA_INDEX_API_KEY,\n",
    "    verbose=True,\n",
    "    language=\"en\",\n",
    "    num_workers=8\n",
    ")"
   ]
  },
  {
   "cell_type": "code",
   "execution_count": 9,
   "metadata": {},
   "outputs": [
    {
     "name": "stdout",
     "output_type": "stream",
     "text": [
      "Started parsing the file under job_id 377422fa-27a3-491b-8009-04b983ff4c2b\n",
      "Started parsing the file under job_id 662180ea-ffd1-4a98-8abc-5516011cb6f6\n",
      "Started parsing the file under job_id 4ce81e35-dfa0-4efd-97b4-75e892aa1eec\n",
      "Started parsing the file under job_id e78eceba-aab2-4918-b47a-e07610aa5e85\n",
      "Started parsing the file under job_id 9e756a7d-8d32-4a02-8f4a-ca1b3e307a5f\n",
      "Started parsing the file under job_id 4790a3c6-a5a1-4010-bfc4-7ba9e1fe706f\n",
      "......"
     ]
    }
   ],
   "source": [
    "# use SimpleDirectoryReader to parse our file\n",
    "file_extractor = {\".pdf\": parser}\n",
    "\n",
    "reader = SimpleDirectoryReader(input_dir =r\"D:\\Generative-AI\\03-Generative-AI-Frameworks\\data\\aiNutritionist\\Clinical_Reports\", file_extractor=file_extractor)\n",
    "clinicalReports = reader.load_data()\n",
    "\n",
    "reader = SimpleDirectoryReader(input_dir =r\"D:\\Generative-AI\\03-Generative-AI-Frameworks\\data\\aiNutritionist\\Diet_Plan\", file_extractor=file_extractor)\n",
    "dietPlan = reader.load_data()\n",
    "\n",
    "reader = SimpleDirectoryReader(input_dir =r\"D:\\Generative-AI\\03-Generative-AI-Frameworks\\data\\aiNutritionist\\ICMR_Guidelines\", file_extractor=file_extractor)\n",
    "icmrGuidelines = reader.load_data()\n",
    "\n",
    "\n"
   ]
  },
  {
   "cell_type": "code",
   "execution_count": 10,
   "metadata": {},
   "outputs": [],
   "source": [
    "documents= clinicalReports + dietPlan + icmrGuidelines"
   ]
  },
  {
   "cell_type": "code",
   "execution_count": 11,
   "metadata": {},
   "outputs": [
    {
     "name": "stdout",
     "output_type": "stream",
     "text": [
      "Chunk size (characters) for document 0: 22\n",
      "Chunk size (characters) for document 1: 22\n",
      "Chunk size (characters) for document 2: 109\n",
      "Chunk size (characters) for document 3: 49\n",
      "Chunk size (characters) for document 4: 7289\n",
      "Chunk size (characters) for document 5: 25000\n"
     ]
    }
   ],
   "source": [
    "for i in range(len(documents)):  # Iterate through documents\n",
    "    chunk_size = len(documents[i].text[0:50000])  \n",
    "    print(f\"Chunk size (characters) for document {i}: {chunk_size}\")"
   ]
  },
  {
   "cell_type": "code",
   "execution_count": 12,
   "metadata": {},
   "outputs": [],
   "source": [
    "from llama_index.embeddings.openai import OpenAIEmbedding\n",
    "# Load global settings\n",
    "#Settings.api_key = OPENAI_API_KEY\n",
    "\n",
    "# Load in a specific embedding model\n",
    "embed_model = OpenAIEmbedding(model=\"text-embedding-3-large\", chunk_size=1024, chunk_overlap=200, embed_batch_size=32,api_key=OPENAI_API_KEY)\n",
    "\n",
    "# Load in a specific language model\n",
    "llm = OpenAI(model=\"gpt-4o\", api_key=OPENAI_API_KEY,temperature=0.7, max_tokens=3000, top_p=1, logprobs=True, echo=True, stream=True)\n",
    "\n",
    "\n",
    "# Load global settings\n",
    "Settings.embed_model = embed_model\n",
    "Settings.llm = llm"
   ]
  },
  {
   "cell_type": "code",
   "execution_count": 16,
   "metadata": {},
   "outputs": [],
   "source": [
    "# Create Custom Prompt Template\n",
    "\n",
    "template = (\n",
    "    \"You are NutriGuide, an AI assistant specializing in personalized nutrition advice. You provide diet plans and nutritional guidance based on ICMR guidelines and individual health reports. Start each response with 'NutriGuide:'.\\n\"\n",
    "    \"**Context Information**\\n\"\n",
    "    \"---------------------\\n\"\n",
    "    \"{context_str}\\n\"\n",
    "    \"---------------------\\n\"\n",
    "    \"**User Question:** {query_str}\\n\"\n",
    ")\n",
    "\n",
    "\n",
    "context_str = (\n",
    "    \"User Health Report Summary:\\n\"\n",
    "    \"- Condition: High blood pressure\\n\"\n",
    "    \"- Age: 34\\n\"\n",
    "    \"- Gender: Female\\n\"\n",
    "    \"- Weight: 74 kg\\n\"\n",
    "    \"- Height: 160 cm\\n\"\n",
    "    \"- Lifestyle: Sedentary\\n\"\n",
    "    \"- Specific dietary restrictions: None\\n\"\n",
    ")\n",
    "\n",
    "\n",
    "qa_template = PromptTemplate(template)\n"
   ]
  },
  {
   "cell_type": "code",
   "execution_count": 14,
   "metadata": {},
   "outputs": [],
   "source": [
    "# initialize client\n",
    "db = chromadb.PersistentClient(path=\"./chroma_db\")\n",
    "\n",
    "# get collection\n",
    "chroma_collection = db.get_or_create_collection(\"quickstart\")\n",
    "\n",
    "# set up ChromaVectorStore and load in data\n",
    "vector_store = ChromaVectorStore(chroma_collection=chroma_collection)\n",
    "storage_context = StorageContext.from_defaults(vector_store=vector_store)\n",
    "\n",
    "\n",
    "index = VectorStoreIndex.from_documents(\n",
    "    documents, storage_context=storage_context, embed_model=embed_model, llm=llm\n",
    ")\n",
    "\n",
    "# configure retriever\n",
    "retriever = VectorIndexRetriever(\n",
    "    index=index,\n",
    "    similarity_top_k=15,\n",
    ")\n",
    "\n",
    "# configure response synthesizer\n",
    "response_synthesizer = get_response_synthesizer()\n",
    "\n",
    "# assemble query engine\n",
    "query_engine = RetrieverQueryEngine(\n",
    "    retriever=retriever,\n",
    "    response_synthesizer=response_synthesizer,\n",
    "    node_postprocessors=[SimilarityPostprocessor(similarity_cutoff=0.7)],\n",
    ")"
   ]
  },
  {
   "cell_type": "code",
   "execution_count": 17,
   "metadata": {},
   "outputs": [
    {
     "data": {
      "text/markdown": [
       "**NutriGuide:**\n",
       "\n",
       "Certainly! Based on the context provided, here is a diet plan tailored to manage your weight loss journey, ensuring it aligns with the ICMR guidelines:\n",
       "\n",
       "### **Daily Diet Plan for Weight Loss**\n",
       "\n",
       "#### **Morning (6:00 AM)**\n",
       "- **Warm Lemon Water:** 1 glass (without sugar)\n",
       "\n",
       "#### **Breakfast (8:00 - 9:00 AM)**\n",
       "- **Option 1:**  \n",
       "  - Soaked & boiled whole grains (like oats or quinoa) - 60g\n",
       "  - Boiled chickpea or black beans - 30g\n",
       "  - Green leafy vegetables (spinach, kale) - 50g\n",
       "  - Mixed vegetables - 100g\n",
       "  - Nuts (almonds, walnuts) - 20g\n",
       "- **Option 2:**  \n",
       "  - Low-fat yogurt - 1 cup\n",
       "  - Fresh fruit (apple, berries) - 1 serving\n",
       "  - A handful of nuts and seeds\n",
       "\n",
       "#### **Mid-Morning Snack (10:30 AM)**\n",
       "- **Fruit:** 1 whole fruit (avoid fruit juices)\n",
       "\n",
       "#### **Lunch (1:00 - 2:00 PM)**\n",
       "- **Option 1:**  \n",
       "  - Whole grain cereals (brown rice/whole wheat chapati) - 80g\n",
       "  - Pulses (dal) - 20g\n",
       "  - Mixed vegetable curry - 150g\n",
       "  - Green leafy vegetables - 50g\n",
       "  - Low-fat curd - 150ml\n",
       "  - End meal with a small fruit serving (50g)\n",
       "- **Option 2:**  \n",
       "  - Vegetable khichdi - 1 cup\n",
       "  - Cucumber salad - 1 cup\n",
       "  - Low-fat curd - 1 cup\n",
       "\n",
       "#### **Afternoon (4:00 PM)**\n",
       "- **Buttermilk:** 1 glass (without sugar)\n",
       "\n",
       "#### **Evening Beverage (5:00 PM)**\n",
       "- **Milk:** 50ml (skimmed milk)\n",
       "- **Nuts/Seeds:** A handful of mixed nuts or seeds\n",
       "\n",
       "#### **Dinner (7:00 - 8:00 PM)**\n",
       "- **Option 1:**  \n",
       "  - Whole grain cereals (whole wheat chapati) - 60g\n",
       "  - Pulses (dal) - 15g\n",
       "  - Mixed vegetables - 50g\n",
       "  - Low-fat curd - 100ml\n",
       "  - End with a small fruit serving (50g)\n",
       "- **Option 2:**  \n",
       "  - Poli (whole wheat chapati) - 2 pieces\n",
       "  - Grilled chicken - 1 piece\n",
       "  - Cucumber tomato salad - 1 bowl\n",
       "\n",
       "#### **Late Evening (10:00 PM)**\n",
       "- **Skimmed milk with turmeric:** 1 glass (without sugar)\n",
       "\n",
       "### **Additional Guidelines:**\n",
       "- **Hydration:** Drink at least 3 liters of water daily.\n",
       "- **Healthy Fats:** Include flaxseeds, nuts like almonds, and walnuts. Opt for oils low in saturated fats like mustard oil or sunflower oil.\n",
       "- **Avoid:** Sugary foods, refined flours, bakery products, fried/junk food, high-fat sugar products, carbonated drinks, and packaged foods.\n",
       "- **Salads:** Always start your meals with a salad.\n",
       "- **Physical Activity:** Engage in regular physical activity and yoga to support weight loss.\n",
       "\n",
       "### **Notes:**\n",
       "- **Portion Control:** Ensure the portion sizes are appropriate to avoid excessive calorie intake.\n",
       "- **Meal Timing:** Maintain consistent meal timings to support metabolism.\n",
       "- **Variety:** Incorporate a variety of fruits and vegetables to meet nutritional requirements.\n",
       "\n",
       "This diet plan focuses on balanced nutrition, portion control, and the inclusion of whole foods to support gradual and sustainable weight loss. Always consult with a healthcare provider before starting any new diet plan, especially if you have specific health conditions or dietary needs.\n",
       "\n",
       "If you need further modifications or have specific preferences, feel free to reach out!\n",
       "\n",
       "**NutriGuide:** Wishing you a healthy and successful weight loss journey!"
      ],
      "text/plain": [
       "<IPython.core.display.Markdown object>"
      ]
     },
     "metadata": {},
     "output_type": "display_data"
    }
   ],
   "source": [
    "query_engine = index.as_query_engine(text_qa_template=qa_template)\n",
    "response = query_engine.query(\"Can you suggest a diet plan to manage my weight loss journey?\")\n",
    "display(Markdown(f\"{response}\"))"
   ]
  }
 ],
 "metadata": {
  "kernelspec": {
   "display_name": "Python 3",
   "language": "python",
   "name": "python3"
  },
  "language_info": {
   "codemirror_mode": {
    "name": "ipython",
    "version": 3
   },
   "file_extension": ".py",
   "mimetype": "text/x-python",
   "name": "python",
   "nbconvert_exporter": "python",
   "pygments_lexer": "ipython3",
   "version": "3.10.14"
  }
 },
 "nbformat": 4,
 "nbformat_minor": 2
}
