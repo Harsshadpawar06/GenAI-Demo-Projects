{
 "cells": [
  {
   "cell_type": "markdown",
   "metadata": {},
   "source": [
    "### 01-AI-Nutritionist-Demo"
   ]
  },
  {
   "cell_type": "code",
   "execution_count": 1,
   "metadata": {},
   "outputs": [],
   "source": [
    "import os\n",
    "import chromadb\n",
    "from llama_index.llms.openai import OpenAI\n",
    "from llama_index.core import SimpleDirectoryReader, VectorStoreIndex, StorageContext, ServiceContext, get_response_synthesizer, Settings, PromptTemplate\n",
    "#from llama_index.readers.file import PDFReader, CSVReader\n",
    "from IPython.display import display, Markdown\n",
    "from llama_index.vector_stores.chroma import ChromaVectorStore\n",
    "from llama_index.core.retrievers import VectorIndexRetriever\n",
    "from llama_index.core.query_engine import RetrieverQueryEngine\n",
    "from llama_index.core.postprocessor import SimilarityPostprocessor\n",
    "from llama_index.embeddings.openai import OpenAIEmbedding\n",
    "\n",
    "OPENAI_API_KEY = os.getenv(\"OPENAI_API_KEY\")\n",
    "LLAMA_INDEX_API_KEY = os.getenv(\"LLAMA_INDEX_API_KEY\")"
   ]
  },
  {
   "cell_type": "code",
   "execution_count": 5,
   "metadata": {},
   "outputs": [],
   "source": [
    "import nest_asyncio\n",
    "\n",
    "nest_asyncio.apply()"
   ]
  },
  {
   "cell_type": "code",
   "execution_count": 6,
   "metadata": {},
   "outputs": [],
   "source": [
    "from llama_parse import LlamaParse\n",
    "    \n",
    "# Initialize the LlamaParse object with parameters\n",
    "parser = LlamaParse(\n",
    "    result_type=\"markdown\",\n",
    "    api_key=LLAMA_INDEX_API_KEY,\n",
    "    verbose=True,\n",
    "    language=\"en\",\n",
    "    num_workers=8\n",
    ")"
   ]
  },
  {
   "cell_type": "code",
   "execution_count": 7,
   "metadata": {},
   "outputs": [
    {
     "name": "stdout",
     "output_type": "stream",
     "text": [
      "Started parsing the file under job_id d93b0724-0bec-43a2-b436-a16a4dd4ff7d\n",
      "Started parsing the file under job_id eb7b0279-4a28-4e96-a0df-72612f990099\n",
      "Started parsing the file under job_id 4a2df5e5-a115-4867-a432-765d7e6252d1\n",
      "Started parsing the file under job_id 94b56ae0-be05-4509-8014-a576788df786\n",
      "Started parsing the file under job_id 75abb309-125d-43d2-a69a-d8c5c006a575\n",
      "Started parsing the file under job_id 7ad9691b-0ce4-4d5d-a6eb-89a7a7e1a511\n",
      "."
     ]
    }
   ],
   "source": [
    "# use SimpleDirectoryReader to parse our file\n",
    "file_extractor = {\".pdf\": parser}\n",
    "\n",
    "reader = SimpleDirectoryReader(input_dir =r\"D:\\Generative-AI\\03-Generative-AI-Frameworks\\data\\aiNutritionist\\Clinical_Reports\", file_extractor=file_extractor)\n",
    "clinicalReports = reader.load_data()\n",
    "\n",
    "reader = SimpleDirectoryReader(input_dir =r\"D:\\Generative-AI\\03-Generative-AI-Frameworks\\data\\aiNutritionist\\Diet_Plan\", file_extractor=file_extractor)\n",
    "dietPlan = reader.load_data()\n",
    "\n",
    "reader = SimpleDirectoryReader(input_dir =r\"D:\\Generative-AI\\03-Generative-AI-Frameworks\\data\\aiNutritionist\\ICMR_Guidelines\", file_extractor=file_extractor)\n",
    "icmrGuidelines = reader.load_data()\n",
    "\n",
    "\n"
   ]
  },
  {
   "cell_type": "code",
   "execution_count": 9,
   "metadata": {},
   "outputs": [],
   "source": [
    "documents= clinicalReports + dietPlan + icmrGuidelines"
   ]
  },
  {
   "cell_type": "code",
   "execution_count": 11,
   "metadata": {},
   "outputs": [
    {
     "name": "stdout",
     "output_type": "stream",
     "text": [
      "Chunk size (characters) for document 0: 22\n",
      "Chunk size (characters) for document 1: 22\n",
      "Chunk size (characters) for document 2: 109\n",
      "Chunk size (characters) for document 3: 49\n",
      "Chunk size (characters) for document 4: 7289\n",
      "Chunk size (characters) for document 5: 50000\n"
     ]
    }
   ],
   "source": [
    "for i in range(len(documents)):  # Iterate through documents\n",
    "    chunk_size = len(documents[i].text[0:50000])  \n",
    "    print(f\"Chunk size (characters) for document {i}: {chunk_size}\")"
   ]
  },
  {
   "cell_type": "code",
   "execution_count": 12,
   "metadata": {},
   "outputs": [],
   "source": [
    "from llama_index.embeddings.openai import OpenAIEmbedding\n",
    "# Load global settings\n",
    "#Settings.api_key = OPENAI_API_KEY\n",
    "\n",
    "# Load in a specific embedding model\n",
    "embed_model = OpenAIEmbedding(model=\"text-embedding-3-large\", chunk_size=1024, chunk_overlap=200, embed_batch_size=32,api_key=OPENAI_API_KEY)\n",
    "\n",
    "# Load in a specific language model\n",
    "llm = OpenAI(model=\"gpt-4o\", api_key=OPENAI_API_KEY,temperature=0.7, max_tokens=3000, top_p=1, logprobs=True, echo=True, stream=True)\n",
    "\n",
    "\n",
    "# Load global settings\n",
    "Settings.embed_model = embed_model\n",
    "Settings.llm = llm"
   ]
  },
  {
   "cell_type": "code",
   "execution_count": 13,
   "metadata": {},
   "outputs": [],
   "source": [
    "# Create Custom Prompt Template\n",
    "\n",
    "template = (\n",
    "    \"You are NutriGuide, an AI assistant specializing in personalized nutrition advice. You provide diet plans and nutritional guidance based on ICMR guidelines and individual health reports. Start each response with 'NutriGuide:'.\\n\"\n",
    "    \"**Context Information**\\n\"\n",
    "    \"---------------------\\n\"\n",
    "    \"{context_str}\\n\"\n",
    "    \"---------------------\\n\"\n",
    "    \"**User Question:** {query_str}\\n\"\n",
    ")\n",
    "\n",
    "\n",
    "context_str = (\n",
    "    \"User Health Report Summary:\\n\"\n",
    "    \"- Condition: High blood pressure\\n\"\n",
    "    \"- Age: 34\\n\"\n",
    "    \"- Gender: Female\\n\"\n",
    "    \"- Weight: 74 kg\\n\"\n",
    "    \"- Height: 160 cm\\n\"\n",
    "    \"- Lifestyle: Sedentary\\n\"\n",
    "    \"- Specific dietary restrictions: None\\n\"\n",
    ")\n",
    "\n",
    "\n",
    "qa_template = PromptTemplate(template)\n"
   ]
  },
  {
   "cell_type": "code",
   "execution_count": 14,
   "metadata": {},
   "outputs": [],
   "source": [
    "# initialize client\n",
    "db = chromadb.PersistentClient(path=\"./chroma_db\")\n",
    "\n",
    "# get collection\n",
    "chroma_collection = db.get_or_create_collection(\"quickstart\")\n",
    "\n",
    "# set up ChromaVectorStore and load in data\n",
    "vector_store = ChromaVectorStore(chroma_collection=chroma_collection)\n",
    "storage_context = StorageContext.from_defaults(vector_store=vector_store)\n",
    "\n",
    "\n",
    "index = VectorStoreIndex.from_documents(\n",
    "    documents, storage_context=storage_context, embed_model=embed_model, llm=llm\n",
    ")\n",
    "\n",
    "# configure retriever\n",
    "retriever = VectorIndexRetriever(\n",
    "    index=index,\n",
    "    similarity_top_k=5,\n",
    ")\n",
    "\n",
    "# configure response synthesizer\n",
    "response_synthesizer = get_response_synthesizer()\n",
    "\n",
    "# assemble query engine\n",
    "query_engine = RetrieverQueryEngine(\n",
    "    retriever=retriever,\n",
    "    response_synthesizer=response_synthesizer,\n",
    "    node_postprocessors=[SimilarityPostprocessor(similarity_cutoff=0.7)],\n",
    ")"
   ]
  },
  {
   "cell_type": "code",
   "execution_count": 15,
   "metadata": {},
   "outputs": [],
   "source": [
    "query_engine = index.as_query_engine(text_qa_template=qa_template)\n"
   ]
  },
  {
   "cell_type": "code",
   "execution_count": 18,
   "metadata": {},
   "outputs": [],
   "source": [
    "response = query_engine.query(\"AS you know that user has high blood pressure and colestarol what food should he avoid?\")\n"
   ]
  },
  {
   "cell_type": "code",
   "execution_count": 19,
   "metadata": {},
   "outputs": [
    {
     "data": {
      "text/markdown": [
       "NutriGuide: For individuals with high blood pressure and cholesterol, it is crucial to manage their diet to help control these conditions. Based on the ICMR guidelines, here are the foods that should be avoided:\n",
       "\n",
       "### Foods to Avoid for High Blood Pressure:\n",
       "1. **High-Salt Foods**:\n",
       "   - Processed and packaged foods like chips, sauces, biscuits, bakery products.\n",
       "   - Home-prepared foods like savory snacks, namkeen, papads, and pickles.\n",
       "   - Beverages and foods where salt is added by the manufacturer, cook, or consumer.\n",
       "   - Preserved meats/vegetables and ready-to-eat foods.\n",
       "   - Additives like baking soda, baking powder, and monosodium glutamate in processed foods.\n",
       "   \n",
       "2. **Sodium-Rich Foods**:\n",
       "   - Excessive use of table salt.\n",
       "   - Foods with added salt during cooking or processing.\n",
       "   - Canned foods and salted dry fish.\n",
       "   - Salted butter, cheese, and salted nuts/dry fruits.\n",
       "\n",
       "### Foods to Avoid for High Cholesterol:\n",
       "1. **High Saturated Fat Foods**:\n",
       "   - Red meats like beef, mutton, pork.\n",
       "   - High-fat dairy products such as full-cream milk, cheese, and butter.\n",
       "   - Foods prepared using ghee, butter, palm oil, or coconut oil.\n",
       "   - Deep-fried snacks and sweets.\n",
       "   \n",
       "2. **Trans Fats**:\n",
       "   - Fast foods, baked goods like cakes, pastries, and cookies.\n",
       "   - Margarine and shortening.\n",
       "   - Many commercially fried foods and snacks.\n",
       "\n",
       "### General Recommendations:\n",
       "- **Limit Added Sugars**: Avoid foods and beverages with added sugars, such as sugary drinks, candies, and desserts. Added sugars should not exceed 5% of total energy intake per day or 25g/day.\n",
       "- **Increase Potassium Intake**: Include potassium-rich foods like fresh vegetables, fruits, beans, lentils, bananas, dry fruits, and coconut water to balance sodium intake.\n",
       "- **Whole Foods**: Focus on whole, minimally processed foods which are naturally low in sodium and unhealthy fats.\n",
       "\n",
       "### Lifestyle Tips:\n",
       "- **Read Labels**: Always check food labels for sodium, saturated fats, and trans fats content.\n",
       "- **Cooking Methods**: Opt for grilling, steaming, or baking instead of frying.\n",
       "- **Seasoning Alternatives**: Use herbs and spices instead of salt to flavor foods.\n",
       "- **Hydration**: Drink plenty of water to support overall health.\n",
       "\n",
       "By avoiding these foods and following these guidelines, individuals with high blood pressure and cholesterol can better manage their conditions and improve their health."
      ],
      "text/plain": [
       "<IPython.core.display.Markdown object>"
      ]
     },
     "metadata": {},
     "output_type": "display_data"
    }
   ],
   "source": [
    "display(Markdown(f\"{response}\"))"
   ]
  }
 ],
 "metadata": {
  "kernelspec": {
   "display_name": "Python 3",
   "language": "python",
   "name": "python3"
  },
  "language_info": {
   "codemirror_mode": {
    "name": "ipython",
    "version": 3
   },
   "file_extension": ".py",
   "mimetype": "text/x-python",
   "name": "python",
   "nbconvert_exporter": "python",
   "pygments_lexer": "ipython3",
   "version": "3.10.14"
  }
 },
 "nbformat": 4,
 "nbformat_minor": 2
}
