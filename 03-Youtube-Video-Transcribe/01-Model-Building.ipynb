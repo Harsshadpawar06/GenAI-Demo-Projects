{
 "cells": [
  {
   "cell_type": "markdown",
   "metadata": {},
   "source": [
    "Youtube- Video- Transcribe"
   ]
  },
  {
   "cell_type": "code",
   "execution_count": 3,
   "metadata": {},
   "outputs": [],
   "source": [
    "import streamlit as st\n",
    "import os\n",
    "import openai\n",
    "from openai import OpenAI\n",
    "from dotenv import load_dotenv\n",
    "from youtube_transcript_api import YouTubeTranscriptApi\n",
    "from IPython.display import display, Markdown"
   ]
  },
  {
   "cell_type": "code",
   "execution_count": 6,
   "metadata": {},
   "outputs": [],
   "source": [
    "# Your OpenAI API key\n",
    "api_key = os.getenv(\"OPENAI_API_KEY\")\n",
    "openai.api_key = api_key"
   ]
  },
  {
   "cell_type": "code",
   "execution_count": 7,
   "metadata": {},
   "outputs": [],
   "source": [
    "# Prompt for the OpenAI model\n",
    "PROMPT = \"\"\"You are a YouTube video summarizer. Your task is to analyze the provided transcript and condense it into a clear and informative summary of 50 words or less.\"\"\"\n",
    "\n",
    "# --- Functions ---"
   ]
  },
  {
   "cell_type": "code",
   "execution_count": 8,
   "metadata": {},
   "outputs": [],
   "source": [
    "youtube_link=\"https://www.youtube.com/watch?v=2FX5EdSVZ1k\""
   ]
  },
  {
   "cell_type": "code",
   "execution_count": 9,
   "metadata": {},
   "outputs": [],
   "source": [
    "video_id = youtube_link.split(\"=\")[1]"
   ]
  },
  {
   "cell_type": "code",
   "execution_count": 33,
   "metadata": {},
   "outputs": [
    {
     "name": "stdout",
     "output_type": "stream",
     "text": [
      "2FX5EdSVZ1k\n"
     ]
    }
   ],
   "source": [
    "print(video_id)"
   ]
  },
  {
   "cell_type": "code",
   "execution_count": 18,
   "metadata": {},
   "outputs": [],
   "source": [
    "def extract_transcript(youtube_video_url):\n",
    "    \"\"\"Fetches and combines the transcript text from a YouTube video.\"\"\"\n",
    "    try:\n",
    "        video_id = youtube_video_url.split(\"=\")[1]\n",
    "        transcript_list = YouTubeTranscriptApi.get_transcript(video_id)\n",
    "        transcript_text = \" \".join([item[\"text\"] for item in transcript_list])\n",
    "        return transcript_text\n",
    "    except Exception as e:\n",
    "        st.error(f\"Error extracting transcript: {e}\")  # Inform the user of the error\n",
    "        return None  # Indicate failure"
   ]
  },
  {
   "cell_type": "code",
   "execution_count": 17,
   "metadata": {},
   "outputs": [],
   "source": [
    "def generate_summary(transcript_text):\n",
    "    \"\"\"Generates a summary using the OpenAI API.\"\"\"\n",
    "    try:\n",
    "        client = OpenAI()\n",
    "        response = client.chat.completions.create(\n",
    "            model=\"gpt-4\",\n",
    "            messages=[\n",
    "                {\"role\": \"system\", \"content\": \"You are a YouTube video summarizer. Your task is to analyze the provided transcript and condense it into a clear and informative summary of 50 words or less.\"},\n",
    "                {\"role\": \"user\", \"content\": transcript_text}\n",
    "            ],\n",
    "            max_tokens=50  # Adjust as needed\n",
    "        )\n",
    "        return response.choices[0].message.content.strip()\n",
    "    except Exception as e:\n",
    "        st.error(f\"Error generating summary: {e}\") \n",
    "        return None "
   ]
  },
  {
   "cell_type": "code",
   "execution_count": 19,
   "metadata": {},
   "outputs": [],
   "source": [
    "transcript = extract_transcript(youtube_link)"
   ]
  },
  {
   "cell_type": "code",
   "execution_count": 20,
   "metadata": {},
   "outputs": [
    {
     "name": "stdout",
     "output_type": "stream",
     "text": [
      "India's neighbors are also watching this closy especially Pakistan and China and guess what they're enjoying it Chinese State media has waded into Indian politics they have a lot of strong opinions the global times says economic reforms will be tough they also say that this wind looks like a loss China Daily said something similar they called it a stunning blow to modi's image I must say it's a bit surprising because these Chinese journalists have never really covered a real democracy yet they have so much to say also look at the dawn's headlines it's the biggest English newspaper in Pakistan here's what it said and I'm quoting India defeats hate Modi left at the mercy of pro- Muslim allies interesting choice of words India has a history of Coalition governments it's not about Mercy it's about working together and Pakistan should know this they've had coalition government since 1947 ruling party plus the Army on second thoughts maybe that explains the misconception same with Western media they too can't contain their Glee look at the Bloomberg headline Modi just learned hype can only carry you so far the New York Times has a similar one narandra Modi fell to Earth after making it all about himself what explains these Sharp reactions broadly two things one is the obvious bias elections elsewhere will get vanilla headlines the sharp ones are reserved for India the second is bad blood modi's government regularly clashed with Western media whether it was on bias reportage or critical commentary or unfair accusations so this time they saw a chance to hit back it's classic Western press not many policy implications though but Pakistan and China are different let's look at China first a lot of their coverage focused on one thing and that is India's economy new delhi's mission is to expand its manufacturing capacity to become a factory to the world but China State media says that we'll have to wait let me quote the global times given Mod's bhia janata party failed to secure an outright majority of seats it will be hard for the prime minister to push economic reform but likely to play the card of national ISM this is from the global times now two things to note here one China expects India to go slow on reforms and two they expect an aggressive foreign policy maybe more efforts to take on China and I guess this was expected beijing's goal is to spread perceptions bad perceptions about India that's what they want to spread look at this article in the China Daily it calls India the graveyard of foreign firms a lot of these have been published since the last year and the goal is quite simple to scare foreign companies and investors we know China's economy is sluggish their GDP is projected to grow by 5% this year India's GDP is expected to grow by close to 7% many investors are also fleeing China in February foreign direct investment plunged to a 30-year low in China it was 82% lower than 2022 and where are these investors going to a lot of places like Vietnam and India so what does China do runs meere campaigns on the Indian reform path that's what they're trying to do Pakistan's agenda is different they know that it's pointless to compare economies so they are targeting India's secular credentials which is not a new strategy Islamabad has made a habit of doing this especially on global platforms the question is how should India respond to all of this we say it's quite simple simple prove them wrong China feels a coalition will slow down India's reform so the ball is now in the government's Court it must show investors that nothing has changed Coalition or not India is open for business first post reports from the world's second largest continent hello I'm Alison MCR a very warm welcome from Durban South Africa we get you the news and the news makers from Africa from elections to climate change to Innovations and opportunities as the world's attention shifts we report from Africa the heart of the global South join me every weekday live on first post [Music]\n"
     ]
    }
   ],
   "source": [
    "print(transcript)"
   ]
  },
  {
   "cell_type": "code",
   "execution_count": 14,
   "metadata": {},
   "outputs": [
    {
     "name": "stdout",
     "output_type": "stream",
     "text": [
      "None\n"
     ]
    }
   ],
   "source": [
    "print(summary)"
   ]
  },
  {
   "cell_type": "code",
   "execution_count": 22,
   "metadata": {},
   "outputs": [],
   "source": [
    "summary=generate_summary(transcript)"
   ]
  },
  {
   "cell_type": "code",
   "execution_count": 23,
   "metadata": {},
   "outputs": [
    {
     "data": {
      "text/markdown": [
       "The video discusses the international reactions, particularly from China and Pakistan, to the recent political events in India. Chinese media predicts economic reforms in India may be hindered, while Pakistan's press is skeptical of India's secular claims. Despite this, it's"
      ],
      "text/plain": [
       "<IPython.core.display.Markdown object>"
      ]
     },
     "metadata": {},
     "output_type": "display_data"
    }
   ],
   "source": [
    "display(Markdown(f\"{summary}\"))"
   ]
  },
  {
   "cell_type": "code",
   "execution_count": 11,
   "metadata": {},
   "outputs": [
    {
     "name": "stdout",
     "output_type": "stream",
     "text": [
      "Title: Elon Musk ने किया बड़ा ऐलान, Office में कोई नहीं लाएगा iPhone और MacBook, ऐसा क्यों कहा? | Chat GPT\n",
      "Description: None\n",
      "Tags: []\n",
      "Views: 838\n",
      "Length (seconds): 115\n",
      "Rating: None\n",
      "Author: NDTV India\n",
      "Publish Date: 2024-06-11 00:00:00\n",
      "Transcript: कंपनियों में बैन कर दिया जाएगा हम सुरक्षा के साथ खिलवाड़ नहीं स्वीकार करेंगे मस ने आगे कहा कि हम कंपनी के गेट पर आंग उतको की जांच करेंगे उनके पास को एक्सेस नहीं करेगा इस पर मस्क ने कहा कि फिर इसे एक ऐप के रूप में छोड़ दें यह एक बकवास है एक्सपर्ट यूटर मार्कस ब्राउनली की एक पोस्ट का जवाब देते हुए मस्क ने लिखा कि apple.ca की ओर से चर जीपीटी को आओ 18 i ओ 18 और मे ओ सिया के साथ जोड़ा गया है इसके बाद जब जरूरत होगी तब सीरी चैट जीपीटी की मदद ले सकता है सीरी द्वारा चाट जीपीटी को कोई सवाल भेजने से पहले यूजर से पूछा जाएगा इसके बाद सीरी सीधे जवाब प्रस्तुत करेगा कंपनी ने इसके अतिरिक्त कहा है कि चैट जीपीटी आगे चलकर लिखने के टूल के रूप में आएगा जिसकी मदद से यूजर्स कंटेंट जनरेट कर सकते हैं\n"
     ]
    }
   ],
   "source": [
    "from pytube import YouTube\n",
    "from youtube_transcript_api import YouTubeTranscriptApi\n",
    "\n",
    "def get_youtube_video_info(video_url):\n",
    "    # Get video details using pytube\n",
    "    yt = YouTube(video_url)\n",
    "    video_details = {\n",
    "        'title': yt.title,\n",
    "        'description': yt.description,\n",
    "        'tags': yt.keywords,\n",
    "        'views': yt.views,\n",
    "        'length': yt.length,\n",
    "        'rating': yt.rating,\n",
    "        'author': yt.author,\n",
    "        'publish_date': yt.publish_date,\n",
    "    }\n",
    "\n",
    "    # Try to get transcript using youtube-transcript-api\n",
    "    try:\n",
    "        transcript_list = YouTubeTranscriptApi.get_transcript(yt.video_id, languages=['en','ar','hi','fr','de']) # Specify English as the language\n",
    "        transcript = \" \".join([entry['text'] for entry in transcript_list])\n",
    "    except Exception as e:\n",
    "        transcript = None\n",
    "        print(f\"Could not retrieve transcript: {e}\")\n",
    "\n",
    "    video_details['transcript'] = transcript\n",
    "\n",
    "    return video_details\n",
    "\n",
    "# Example usage\n",
    "video_url = 'https://www.youtube.com/watch?v=1qV1nCp3gWs'\n",
    "video_info = get_youtube_video_info(video_url)\n",
    "\n",
    "print(\"Title:\", video_info['title'])\n",
    "print(\"Description:\", video_info['description'])\n",
    "print(\"Tags:\", video_info['tags'])\n",
    "print(\"Views:\", video_info['views'])\n",
    "print(\"Length (seconds):\", video_info['length'])\n",
    "print(\"Rating:\", video_info['rating'])\n",
    "print(\"Author:\", video_info['author'])\n",
    "print(\"Publish Date:\", video_info['publish_date'])\n",
    "print(\"Transcript:\", video_info['transcript'])"
   ]
  }
 ],
 "metadata": {
  "kernelspec": {
   "display_name": "devenv",
   "language": "python",
   "name": "python3"
  },
  "language_info": {
   "codemirror_mode": {
    "name": "ipython",
    "version": 3
   },
   "file_extension": ".py",
   "mimetype": "text/x-python",
   "name": "python",
   "nbconvert_exporter": "python",
   "pygments_lexer": "ipython3",
   "version": "3.10.14"
  }
 },
 "nbformat": 4,
 "nbformat_minor": 2
}
